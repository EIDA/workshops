{
 "cells": [
  {
   "cell_type": "code",
   "execution_count": null,
   "id": "4ef871d1",
   "metadata": {},
   "outputs": [],
   "source": [
    "# Define start and end dates for event and station searches\n",
    "START = \"2020-01-01\"\n",
    "END = \"2020-06-01\"\n",
    "\n",
    "# Define event minimum magnitude\n",
    "MAG_MIN = 5\n",
    "\n",
    "# Define the bounding box for event and station searches\n",
    "LAT_MIN = 40\n",
    "LAT_MAX = 45\n",
    "LON_MIN = 17\n",
    "LON_MAX = 25\n",
    "\n",
    "# Max radius of stations from the epicenter\n",
    "RADIUS_MAX = 15"
   ]
  },
  {
   "cell_type": "code",
   "execution_count": null,
   "id": "ab0831f8",
   "metadata": {},
   "outputs": [],
   "source": [
    "from obspy.clients.fdsn.client import Client\n",
    "from obspy.clients.fdsn import RoutingClient\n",
    "\n",
    "client_gfz = Client(\"GFZ\")\n",
    "client_eida = RoutingClient(\"eida-routing\")"
   ]
  },
  {
   "cell_type": "code",
   "execution_count": null,
   "id": "e3d0d7f7",
   "metadata": {},
   "outputs": [],
   "source": [
    "catalog = client_gfz.get_events(\n",
    "    starttime=START,\n",
    "    endtime=END,\n",
    "    minmagnitude=MAG_MIN,\n",
    "    minlatitude=LAT_MIN,\n",
    "    maxlatitude=LAT_MAX,\n",
    "    minlongitude=LON_MIN,\n",
    "    maxlongitude=LON_MAX,\n",
    ")\n",
    "\n",
    "event = catalog[0]\n",
    "\n",
    "print(event)"
   ]
  },
  {
   "cell_type": "code",
   "execution_count": null,
   "id": "06bf817e",
   "metadata": {},
   "outputs": [],
   "source": [
    "inventory = client_eida.get_stations(\n",
    "    startbefore=event.origins[0].time,\n",
    "    endafter=event.origins[0].time,\n",
    "    latitude=event.origins[0].latitude,\n",
    "    longitude=event.origins[0].longitude,\n",
    "    maxradius=RADIUS_MAX,\n",
    ")"
   ]
  },
  {
   "cell_type": "code",
   "execution_count": null,
   "id": "5e847304",
   "metadata": {},
   "outputs": [],
   "source": [
    "inventory"
   ]
  },
  {
   "cell_type": "code",
   "execution_count": null,
   "id": "53fe158a",
   "metadata": {},
   "outputs": [],
   "source": [
    "inventory.plot(method=\"cartopy\")"
   ]
  },
  {
   "cell_type": "code",
   "execution_count": null,
   "id": "418cea0a",
   "metadata": {},
   "outputs": [],
   "source": []
  }
 ],
 "metadata": {
  "kernelspec": {
   "display_name": "Python 3 (ipykernel)",
   "language": "python",
   "name": "python3"
  },
  "language_info": {
   "codemirror_mode": {
    "name": "ipython",
    "version": 3
   },
   "file_extension": ".py",
   "mimetype": "text/x-python",
   "name": "python",
   "nbconvert_exporter": "python",
   "pygments_lexer": "ipython3",
   "version": "3.8.10"
  }
 },
 "nbformat": 4,
 "nbformat_minor": 5
}
