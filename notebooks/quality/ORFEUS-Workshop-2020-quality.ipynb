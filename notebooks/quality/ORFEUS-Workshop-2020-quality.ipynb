{
 "cells": [
  {
   "cell_type": "markdown",
   "metadata": {},
   "source": [
    "# Introduction\n",
    "This notebook contains example workflow for web services exposed by the EIDA (European Integrated Data Archive) Federation, focused on the EIDAWS-WFCatalog service and it's functionalities allowing users to filter out low quality and low coverage data before downloading it to the local machine.\n",
    "\n",
    "In this example we are going to:\n",
    "1. Retrieve seismic event information from FDSNWS-Event catalogue offered by [GFZ](https://www.gfz-potsdam.de/) EIDA Node.\n",
    "1. List all stations available in priximity to given event.\n",
    "1. Using EIDAWS-WFCatalog service, we are going to exclide all station which do not meet following criteria:\n",
    "    - Sum of gaps = 0\n",
    "    - Sum of overlaps = 0\n",
    "    - Availability >= 95%\n",
    "1. Using FDSNWS-Federator web service, we are going to download:\n",
    "    - miniSEED file containing the waveforms\n",
    "    - StationXML file containing station and instrumentation metadata on channel level"
   ]
  },
  {
   "cell_type": "markdown",
   "metadata": {},
   "source": [
    "# 1. Finding event\n",
    "Lets start by finding an event. Below two completely different approaches have been presented:\n",
    "- Downloading event XML document directly from FDSNWS-Event web service\n",
    "- Downloading event information using ObsPy library\n"
   ]
  },
  {
   "cell_type": "code",
   "execution_count": 8,
   "metadata": {},
   "outputs": [
    {
     "name": "stdout",
     "output_type": "stream",
     "text": [
      "Event with ID: smi:org.gfz-potsdam.de/geofon/gfz2020bywr had magnitude equal to: 5.062193141\n"
     ]
    }
   ],
   "source": [
    "import requests\n",
    "import xml.etree.ElementTree as ET\n",
    "\n",
    "ENCODING = \"utf-8\"\n",
    "NSMAP = {'mw': 'http://quakeml.org/xmlns/bed/1.2'}\n",
    "\n",
    "# Define start and end dates\n",
    "start = \"2020-01-01\"\n",
    "end = \"2020-06-01\"\n",
    "\n",
    "# Define the bounding box\n",
    "min_mag = 5\n",
    "min_lat = 40\n",
    "max_lat = 45\n",
    "min_lon = 17\n",
    "max_lon = 25\n",
    "\n",
    "events_url = (\n",
    "    f\"http://geofon.gfz-potsdam.de/fdsnws/event/1/query?\"\n",
    "    f\"start={start}&end={end}&\"\n",
    "    f\"minmag={min_mag}&\"\n",
    "    f\"minlat={min_lat}&minlon={min_lon}&\"\n",
    "    f\"maxlat={max_lat}&maxlon={max_lon}\"\n",
    ")\n",
    "\n",
    "# http://geofon.gfz-potsdam.de/fdsnws/event/1/query?start=2020-01-01&end=2020-06-01&minmag=5&minlat=40&minlon=17&maxlat=45&maxlon=25\n",
    "\n",
    "r = requests.get(events_url, timeout=10)\n",
    "r.encoding = ENCODING\n",
    "\n",
    "if r.status_code == 200:\n",
    "    event_root = ET.fromstring(r.text)\n",
    "    for event_element in event_root.findall(\"./mw:eventParameters/*\", namespaces=NSMAP):\n",
    "        # Get event ID from event_element attribute\n",
    "        event_id = event_element.get(\"publicID\")\n",
    "        \n",
    "        # Find event magnitude element\n",
    "        event_magnitude_element = event_element.find(\"./mw:magnitude/mw:mag/mw:value\", namespaces=NSMAP)\n",
    "        \n",
    "        # Get magnitude value from event_magnitude_element\n",
    "        event_magnitude = event_magnitude_element.text\n",
    "        \n",
    "        print(f\"Event with ID: {event_id} had magnitude equal to: {event_magnitude}\")"
   ]
  },
  {
   "cell_type": "markdown",
   "metadata": {},
   "source": [
    "And now with ObsPy..."
   ]
  },
  {
   "cell_type": "code",
   "execution_count": 20,
   "metadata": {},
   "outputs": [
    {
     "name": "stdout",
     "output_type": "stream",
     "text": [
      "Event:\t2020-01-28T20:15:10.670309Z | +41.433,  +19.569 | 5.062193141 M  | automatic\n",
      "\n",
      "\t            resource_id: ResourceIdentifier(id=\"smi:org.gfz-potsdam.de/geofon/gfz2020bywr\")\n",
      "\t          creation_info: CreationInfo(agency_id='GFZ', creation_time=UTCDateTime(2020, 1, 28, 20, 16, 31, 618036))\n",
      "\t    preferred_origin_id: ResourceIdentifier(id=\"smi:org.gfz-potsdam.de/geofon/Origin/20200128202144.356462.2018953\")\n",
      "\t preferred_magnitude_id: ResourceIdentifier(id=\"smi:org.gfz-potsdam.de/geofon/Origin/20200128202144.356462.2018953/netMag/M\")\n",
      "\t                   ---------\n",
      "\t     event_descriptions: 1 Elements\n",
      "\t                origins: 1 Elements\n",
      "\t             magnitudes: 1 Elements\n"
     ]
    }
   ],
   "source": [
    "from obspy import read_events\n",
    "\n",
    "evts = read_events(events_url)\n",
    "\n",
    "for e in evts:\n",
    "    print(e)"
   ]
  },
  {
   "cell_type": "markdown",
   "metadata": {},
   "source": [
    "Users are free to choose how they download data from EIDA, but for convenience we will continue using ObsPy throughoug the rest of this notebook. 🦥"
   ]
  },
  {
   "cell_type": "code",
   "execution_count": null,
   "metadata": {},
   "outputs": [],
   "source": []
  }
 ],
 "metadata": {
  "kernelspec": {
   "display_name": "Python 3",
   "language": "python",
   "name": "python3"
  },
  "language_info": {
   "codemirror_mode": {
    "name": "ipython",
    "version": 3
   },
   "file_extension": ".py",
   "mimetype": "text/x-python",
   "name": "python",
   "nbconvert_exporter": "python",
   "pygments_lexer": "ipython3",
   "version": "3.7.3"
  }
 },
 "nbformat": 4,
 "nbformat_minor": 2
}
