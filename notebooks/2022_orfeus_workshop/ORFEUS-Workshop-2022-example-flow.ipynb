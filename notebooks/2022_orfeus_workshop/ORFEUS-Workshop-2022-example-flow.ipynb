{
 "cells": [
  {
   "cell_type": "markdown",
   "id": "9f5bc8ca",
   "metadata": {},
   "source": [
    "# Orfeus Workshop 2022 (Potsdam)\n",
    "\n",
    "This notebook contains simplified workflow for web services exposed by the EIDA (European Integrated Data Archive) Federation, focused on the EIDAWS-WFCatalog service and its functionalities allowing users to filter out low quality and low coverage data before downloading it to the local machine.\n",
    "\n",
    "In this example we are going to:\n",
    "\n",
    "1. Retrieve seismic event information from FDSNWS-Event catalogue offered by [GFZ](https://www.gfz-potsdam.de/) EIDA Node:\n",
    "    * Date:\n",
    "        * 📅 start date = 2020-01-01\n",
    "        * 📅 end date = 2020-06-01\n",
    "    * Event characteristics:\n",
    "        * 🎚️ minimum magnitude = 5\n",
    "    * Coordinates:\n",
    "        * 🌐 minimum latitude = 40°N\n",
    "        * 🌐 maximum latitude = 45°N\n",
    "        * 🌐 minimum longitude = 17°E\n",
    "        * 🌐 maximum longitude = 25°E\n",
    "1. Using [FDSNWS-Station](https://www.orfeus-eu.org/data/eida/webservices/station/) web service, list all stations available in the region defined using epicentral distance.\n",
    "1. Using [EIDAWS-WFCatalog](https://www.orfeus-eu.org/data/eida/webservices/wfcatalog/) service, we are going to exclude all stations which do not meet following criteria:\n",
    "    * At least 95% data coverage on the day of the event\n",
    "    * Maximum of 5 gaps\n",
    "    * Sum of gaps lower than 50 seconds\n",
    "    * No overlaps\n",
    "1. Using [FDSNWS-Dataselect](https://www.orfeus-eu.org/data/eida/webservices/dataselect/) web service, we are going to download miniSEED files containing the waveforms from a time window defined using theoretial seismic wave arrival times."
   ]
  },
  {
   "cell_type": "markdown",
   "id": "f3b51d3e",
   "metadata": {},
   "source": [
    "## Imports"
   ]
  },
  {
   "cell_type": "code",
   "execution_count": null,
   "id": "8c34ae6b",
   "metadata": {},
   "outputs": [],
   "source": [
    "import requests\n",
    "import json\n",
    "import pprint\n",
    "from datetime import datetime, timedelta\n",
    "from obspy import UTCDateTime\n",
    "from obspy.geodetics import locations2degrees\n",
    "from obspy.clients.fdsn.client import Client\n",
    "from obspy.clients.fdsn import RoutingClient\n",
    "from obspy.taup import TauPyModel"
   ]
  },
  {
   "cell_type": "markdown",
   "id": "cf78faa6",
   "metadata": {},
   "source": [
    "## Config"
   ]
  },
  {
   "cell_type": "code",
   "execution_count": null,
   "id": "683c9840",
   "metadata": {},
   "outputs": [],
   "source": [
    "# Define start and end dates for the event search\n",
    "START = \"2020-01-01\"\n",
    "END = \"2020-06-01\"\n",
    "\n",
    "# Define event minimum magnitude and bounding box for event search\n",
    "MAG_MIN = 5\n",
    "LAT_MIN = 40\n",
    "LAT_MAX = 45\n",
    "LON_MIN = 17\n",
    "LON_MAX = 25\n",
    "\n",
    "# Max radius of stations from the epicenter (degrees)\n",
    "RADIUS_MAX = 2\n",
    "\n",
    "# Encoding for the HTTP requests\n",
    "ENCODING = \"utf-8\"\n",
    "\n",
    "# WFCatalog filter\n",
    "AVAILABILITY_MIN = 95\n",
    "GAPS_MAX = 5\n",
    "GAPS_SUM_MAX = 50\n",
    "OVERLAPS_MAX = 0"
   ]
  },
  {
   "cell_type": "code",
   "execution_count": null,
   "id": "753ec4d6",
   "metadata": {},
   "outputs": [],
   "source": [
    "# Global instances\n",
    "CLIENT_GFZ = Client(\"GFZ\")\n",
    "CLIENT_EIDA = RoutingClient(\"eida-routing\")\n",
    "\n",
    "# We use the iasp91 reference model\n",
    "TAUP_MODEL = TauPyModel(model=\"iasp91\")"
   ]
  },
  {
   "cell_type": "markdown",
   "id": "0bc12407",
   "metadata": {},
   "source": [
    "## Getting the event catalog"
   ]
  },
  {
   "cell_type": "code",
   "execution_count": null,
   "id": "4d0f80f2",
   "metadata": {},
   "outputs": [],
   "source": [
    "catalog = CLIENT_GFZ.get_events(\n",
    "    starttime=START,\n",
    "    endtime=END,\n",
    "    minmagnitude=MAG_MIN,\n",
    "    minlatitude=LAT_MIN,\n",
    "    maxlatitude=LAT_MAX,\n",
    "    minlongitude=LON_MIN,\n",
    "    maxlongitude=LON_MAX,\n",
    ")\n",
    "event = catalog[0]\n",
    "print(event)"
   ]
  },
  {
   "cell_type": "markdown",
   "id": "f1c3b385",
   "metadata": {},
   "source": [
    "## Getting the station inventory"
   ]
  },
  {
   "cell_type": "code",
   "execution_count": null,
   "id": "6c8c3a4d",
   "metadata": {},
   "outputs": [],
   "source": [
    "inventory = CLIENT_EIDA.get_stations(\n",
    "    startbefore=event.origins[0].time,\n",
    "    endafter=event.origins[0].time,\n",
    "    latitude=event.origins[0].latitude,\n",
    "    longitude=event.origins[0].longitude,\n",
    "    maxradius=RADIUS_MAX,\n",
    ")\n",
    "print(inventory)"
   ]
  },
  {
   "cell_type": "markdown",
   "id": "c0821ed6",
   "metadata": {},
   "source": [
    "## Validation function for the WFCatalog metrics"
   ]
  },
  {
   "cell_type": "code",
   "execution_count": null,
   "id": "56536acc",
   "metadata": {},
   "outputs": [],
   "source": [
    "def validate_station(string):\n",
    "    \"\"\"Our validating function which takes WFCatalog response json and returns\n",
    "    list of network/station/channels for which all components are\n",
    "    present and validated against our criteria.\n",
    "\n",
    "    Args:\n",
    "        string (string): JSON response from EIDAWS-WFCatalog web service\n",
    "\n",
    "    Returns:\n",
    "        []: List of validated networks, stations and channels\n",
    "        None: If no channels have been found, function returns `None`\n",
    "    \"\"\"\n",
    "    # Define mandatory channels\n",
    "    required_channels = {\n",
    "        \"BH?\": [\"BHE\", \"BHN\", \"BHZ\"],\n",
    "        # \"HH?\": [\"HHE\", \"HHN\", \"HHZ\"],\n",
    "        # \"LH?\": [\"LHE\", \"LHN\", \"LHZ\"],\n",
    "    }\n",
    "\n",
    "    # Parse string to json object\n",
    "    j = json.loads(string)\n",
    "\n",
    "    # Define channels_found as set to allow only unique values\n",
    "    channels_found = set()\n",
    "    channels_validated = []\n",
    "\n",
    "    for cha in j:\n",
    "        # Get network station channel identifiers\n",
    "        network_code = cha[\"network\"]\n",
    "        station_code = cha[\"station\"]\n",
    "        channel_code = cha[\"channel\"]\n",
    "\n",
    "        # Get the quality metrics\n",
    "        availability = int(cha[\"percent_availability\"])\n",
    "        gaps = int(cha[\"num_gaps\"])\n",
    "        sum_gaps = int(cha[\"sum_gaps\"])\n",
    "        overlaps = int(cha[\"num_overlaps\"])\n",
    "\n",
    "        msg = f\"{network_code}.{station_code}.{channel_code}: {availability}% coverage, {gaps} gaps ({sum_gaps}s), {overlaps} overlaps.\"\n",
    "        if (\n",
    "            availability < AVAILABILITY_MIN\n",
    "            or gaps > GAPS_MAX\n",
    "            or sum_gaps > GAPS_SUM_MAX\n",
    "            or overlaps > OVERLAPS_MAX\n",
    "        ):\n",
    "            print(f\"NOK: {msg}\")\n",
    "        else:\n",
    "            print(f\"OK: {msg}\")\n",
    "            channels_found.add(channel_code.upper())\n",
    "\n",
    "    # If channel components are present and validated, add them to the channels_validated list\n",
    "    for c in required_channels.keys():\n",
    "        if all(e in channels_found for e in required_channels[c]):\n",
    "            channels_validated.append(c)\n",
    "\n",
    "    if len(channels_validated) > 0:\n",
    "        return \",\".join(channels_validated)\n",
    "    else:\n",
    "        return None"
   ]
  },
  {
   "cell_type": "markdown",
   "id": "21a154df",
   "metadata": {},
   "source": [
    "## Getting list of stations filtered using WFCatalog metrics"
   ]
  },
  {
   "cell_type": "code",
   "execution_count": null,
   "id": "1ca1e8e9",
   "metadata": {},
   "outputs": [],
   "source": [
    "# List of verified stations, will be filled later\n",
    "validated_stations = []\n",
    "\n",
    "# Prepare from-to dates for the WFCatalog query\n",
    "event_day = datetime(\n",
    "    event.origins[0].time.year, event.origins[0].time.month, event.origins[0].time.day\n",
    ")\n",
    "event_day_next = event_day + timedelta(days=1)\n",
    "\n",
    "for net in inventory.networks:\n",
    "    for sta in net.stations:\n",
    "        wfcatalog_url = \"http://eida-federator.ethz.ch/eidaws/wfcatalog/1/query\"\n",
    "\n",
    "        query_params = {\n",
    "            \"start\": event_day.isoformat(),\n",
    "            \"end\": event_day_next.isoformat(),\n",
    "            \"network\": net.code,\n",
    "            \"station\": sta.code,\n",
    "        }\n",
    "\n",
    "        # Request the data...\n",
    "        r = requests.get(wfcatalog_url, params=query_params, timeout=10)\n",
    "        r.encoding = ENCODING\n",
    "\n",
    "        if r.status_code == 200:\n",
    "            # Validate station\n",
    "            cha = validate_station(r.text)\n",
    "            if cha:\n",
    "                # Validation passed, add to verified_stations list\n",
    "                validated_stations.append(\n",
    "                    {\n",
    "                        \"network\": net.code,\n",
    "                        \"station\": sta.code,\n",
    "                        \"latitude\": sta.latitude,\n",
    "                        \"longitude\": sta.longitude,\n",
    "                        \"channels\": cha,\n",
    "                    }\n",
    "                )\n",
    "        else:\n",
    "            pass\n",
    "\n",
    "# Let's print our validated stations\n",
    "pp = pprint.PrettyPrinter()\n",
    "pp.pprint(validated_stations)"
   ]
  },
  {
   "cell_type": "markdown",
   "id": "dd30bb2b",
   "metadata": {},
   "source": [
    "## Function calculating theoretical seismic wave arrival time at station"
   ]
  },
  {
   "cell_type": "code",
   "execution_count": null,
   "id": "db1d27c7",
   "metadata": {},
   "outputs": [],
   "source": [
    "def getPArrival(event, station):\n",
    "    # Determine the arc distance using the haversine formula\n",
    "    arcDistanceDegrees = locations2degrees(\n",
    "        event.origins[0].latitude,\n",
    "        station[\"latitude\"],\n",
    "        event.origins[0].longitude,\n",
    "        station[\"longitude\"],\n",
    "    )\n",
    "\n",
    "    # Calculate the theoretical P-arrival time\n",
    "    arrivals = TAUP_MODEL.get_travel_times(\n",
    "        source_depth_in_km=1e-3 * event.origins[0].depth,\n",
    "        distance_in_degree=arcDistanceDegrees,\n",
    "        phase_list=[\"P\"],\n",
    "    )\n",
    "\n",
    "    # Add the theorical P-arrival delta to the event time\n",
    "    return UTCDateTime(event.origins[0].time) + arrivals[0].time"
   ]
  },
  {
   "cell_type": "markdown",
   "id": "8800b18f",
   "metadata": {},
   "source": [
    "## Downloading and plotting the waveforms"
   ]
  },
  {
   "cell_type": "code",
   "execution_count": null,
   "id": "5f3fa2ac",
   "metadata": {},
   "outputs": [],
   "source": [
    "for station in validated_stations:\n",
    "    stationArrivalTime = getPArrival(event, station)\n",
    "    st = CLIENT_EIDA.get_waveforms(\n",
    "        network=station[\"network\"],\n",
    "        station=station[\"station\"],\n",
    "        channel=station[\"channels\"],\n",
    "        starttime=(stationArrivalTime - 600).isoformat(),\n",
    "        endtime=(stationArrivalTime + 1200).isoformat(),\n",
    "    )\n",
    "    print(st)\n",
    "    st.plot()\n",
    "    # Break after first station for better readibility\n",
    "    break"
   ]
  }
 ],
 "metadata": {
  "kernelspec": {
   "display_name": "Python 3 (ipykernel)",
   "language": "python",
   "name": "python3"
  },
  "language_info": {
   "codemirror_mode": {
    "name": "ipython",
    "version": 3
   },
   "file_extension": ".py",
   "mimetype": "text/x-python",
   "name": "python",
   "nbconvert_exporter": "python",
   "pygments_lexer": "ipython3",
   "version": "3.8.10"
  }
 },
 "nbformat": 4,
 "nbformat_minor": 5
}
