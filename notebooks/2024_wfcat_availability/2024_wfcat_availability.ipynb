{
 "cells": [
  {
   "cell_type": "markdown",
   "metadata": {},
   "source": [
    "# ORFEUS Webinar\n",
    "\n",
    "Date: 19th of June 2024\n",
    "\n",
    "Topic: EIDAWS-WFCatalog and the FDSNWS-Availability.\n",
    "\n",
    "## Agenda\n",
    "\n",
    "1. EIDAWS-WFCatalog recap\n",
    "1. FDSNWS-Availability introduction\n",
    "1. Example workflow using FDSNWS-Availability\n",
    "1. FDSNWS-Availability client demo"
   ]
  },
  {
   "cell_type": "markdown",
   "metadata": {},
   "source": [
    "## EIDAWS-WFCatalog recap\n",
    "\n",
    "EIDAWS-WFCatalog provides **detailed information on the contents of waveform data** including quality control parameters.\n",
    "\n",
    "Information can be included on:\n",
    "\n",
    "- Sample metrics\n",
    "- Record header flags\n",
    "- Timing quality\n",
    "\n",
    "Refer to [orfeus-eu.org/data/eida/webservices/wfcatalog](https://orfeus-eu.org/data/eida/webservices/wfcatalog/) for detailed information.\n",
    "\n",
    "EIDAWS-WFCatalog can serve as an index for data discovery as it has support for range filtering on all available metrics:\n",
    "\n",
    "- Quadratic mean\n",
    "- Standard deviation\n",
    "- Minimum\n",
    "- Maximum\n",
    "- Availability\n",
    "- Gaps\n",
    "- Sum of gaps\n",
    "- Overlaps\n",
    "- Sum of overlaps\n",
    "- Median\n",
    "- Mean\n",
    "- Lower quartile\n",
    "- Upper quartile\n",
    "\n",
    "Example (`NL.HGN.02.BHZ.D.2024.001`)\n",
    "\n",
    "URL: [orfeus-eu.org/eidaws/wfcatalog/1/query?network=NL&station=HGN&channel=BHZ&start=2024-01-01&end=2024-01-02&include=all](https://orfeus-eu.org/eidaws/wfcatalog/1/query?network=NL&station=HGN&channel=BHZ&start=2024-01-01&end=2024-01-02&include=all)\n",
    "\n",
    "Response:\n",
    "```json\n",
    "[\n",
    "    {\n",
    "        \"version\": \"1.0.0\",\n",
    "        \"producer\": {\n",
    "            \"name\": \"ORFEUS ODC/KNMI\",\n",
    "            \"agent\": \"ObsPy mSEED-QC\",\n",
    "            \"created\": \"2024-01-08T05:59:13.395Z\"\n",
    "        },\n",
    "        \"station\": \"HGN\",\n",
    "        \"network\": \"NL\",\n",
    "        \"location\": \"02\",\n",
    "        \"channel\": \"BHZ\",\n",
    "        \"num_gaps\": 1,\n",
    "        \"num_overlaps\": 0,\n",
    "        \"sum_gaps\": 1.819538,\n",
    "        \"sum_overlaps\": 0,\n",
    "        \"max_gap\": 1.819538,\n",
    "        \"max_overlap\": null,\n",
    "        \"record_length\": [\n",
    "            512\n",
    "        ],\n",
    "        \"sample_rate\": [\n",
    "            40\n",
    "        ],\n",
    "        \"percent_availability\": 99.99789405324074,\n",
    "        \"encoding\": [\n",
    "            \"STEIM2\"\n",
    "        ],\n",
    "        \"num_records\": 9476,\n",
    "        \"start_time\": \"2024-01-01T00:00:00.000Z\",\n",
    "        \"end_time\": \"2024-01-02T00:00:00.000Z\",\n",
    "        \"format\": \"miniSEED\",\n",
    "        \"quality\": \"D\",\n",
    "        \"sample_min\": -542404,\n",
    "        \"sample_max\": 516487,\n",
    "        \"sample_mean\": 682.47420721728,\n",
    "        \"sample_median\": 655,\n",
    "        \"sample_stdev\": 22389.627479927443,\n",
    "        \"sample_rms\": 22400.02655653422,\n",
    "        \"sample_lower_quartile\": -798,\n",
    "        \"sample_upper_quartile\": 2112,\n",
    "        \"miniseed_header_percentages\": {\n",
    "            \"timing_quality_mean\": 99.93035035880118,\n",
    "            \"timing_quality_median\": 100,\n",
    "            \"timing_quality_lower_quartile\": 100,\n",
    "            \"timing_quality_upper_quartile\": 100,\n",
    "            \"timing_quality_min\": 80,\n",
    "            \"timing_quality_max\": 100,\n",
    "            \"timing_correction\": 0,\n",
    "            \"io_and_clock_flags\": {\n",
    "                \"short_record_read\": 0,\n",
    "                \"station_volume\": 0,\n",
    "                \"start_time_series\": 0,\n",
    "                \"end_time_series\": 0,\n",
    "                \"clock_locked\": 99.99789405310595\n",
    "            },\n",
    "            \"data_quality_flags\": {\n",
    "                \"amplifier_saturation\": 0,\n",
    "                \"digitizer_clipping\": 0,\n",
    "                \"spikes\": 0,\n",
    "                \"glitches\": 0,\n",
    "                \"missing_padded_data\": 0,\n",
    "                \"telemetry_sync_error\": 0,\n",
    "                \"digital_filter_charging\": 0,\n",
    "                \"suspect_time_tag\": 0\n",
    "            },\n",
    "            \"activity_flags\": {\n",
    "                \"calibration_signal\": 0,\n",
    "                \"time_correction_applied\": 0,\n",
    "                \"event_begin\": 0.5072337940887168,\n",
    "                \"event_end\": 0,\n",
    "                \"positive_leap\": 0,\n",
    "                \"negative_leap\": 0\n",
    "            }\n",
    "        }\n",
    "    }\n",
    "]\n",
    "```"
   ]
  },
  {
   "cell_type": "markdown",
   "metadata": {},
   "source": [
    "EIDAWS-WFCatalog is using ObsPy's `MSEEDMetadata` at its core:"
   ]
  },
  {
   "cell_type": "code",
   "execution_count": null,
   "metadata": {},
   "outputs": [],
   "source": [
    "from obspy.signal.quality_control import MSEEDMetadata\n",
    "\n",
    "md = MSEEDMetadata([\"NL.HGN.02.BHZ.D.2024.001\"])\n",
    "md.meta"
   ]
  },
  {
   "cell_type": "markdown",
   "metadata": {},
   "source": [
    "## FDSNWS-Availability introduction\n",
    "\n",
    "Definition from [fdsnws-availability-1.0.pdf](https://fdsn.org/webservices/fdsnws-availability-1.0.pdf):\n",
    "\n",
    "> web service interface for the exchange of time series data availability\n",
    "\n",
    "Exposes following methods:\n",
    "\n",
    "- `/query` (full resolution time series listings with an option to merge overlapping time spans)\n",
    "- `/queryauth` (optional, same as `/query`, but authenticated)\n",
    "- `/extent` (time series listings with only the earliest and latest data available)\n",
    "- `/extentauth` (optional, same as `/extent`, but authenticated)\n",
    "- `/version`\n",
    "\n",
    "Allows:\n",
    "- Querying availability information using SEED identifiers and timespans\n",
    "- Merging on `quality` and `samplerate`\n",
    "- Adjusting output using `format`, `includerestricted` and `limit` parameters\n",
    "- Sorting rows using `orderby` parameter (SEED IDs, `latestupdate`, `latestupdate_desc`)\n",
    "- Merging gaps using `mergegaps` parameter (`0` by default)\n",
    "\n",
    "For complete specification including list of available parameters, please refer to [fdsnws-availability-1.0.pdf](https://fdsn.org/webservices/fdsnws-availability-1.0.pdf).\n",
    "\n",
    "### Example outputs\n",
    "\n",
    "\n",
    "\n",
    "#### `/query`\n",
    "\n",
    "URL: [orfeus-eu.org/fdsnws/availability/1/query?net=NA&start=2024-01-01](https://orfeus-eu.org/fdsnws/availability/1/query?net=NA&start=2024-01-01)\n",
    "\n",
    "```\n",
    "#Network Station Location Channel Quality SampleRate Earliest                    Latest                     \n",
    "NA       SABA             BHE     D       40.0       2024-01-01T00:00:03.994000Z 2024-01-02T00:00:00.000000Z\n",
    "NA       SABA             BHE     D       40.0       2024-01-02T00:00:01.944000Z 2024-01-03T00:00:00.000000Z\n",
    "(...)\n",
    "NA       SABN             BHE     D       40.0       2024-01-01T23:29:23.074000Z 2024-01-02T00:00:00.000000Z\n",
    "NA       SABN             BHE     D       40.0       2024-01-02T00:00:22.024000Z 2024-01-02T01:58:10.824000Z\n",
    "(...)\n",
    "NA       SABQ             BHE     D       40.0       2024-01-01T00:00:02.199000Z 2024-01-02T00:00:00.000000Z\n",
    "NA       SABQ             BHE     D       40.0       2024-01-02T00:00:00.199000Z 2024-01-03T00:00:00.000000Z\n",
    "(...)\n",
    "```\n",
    "\n",
    "#### `/extent`\n",
    "\n",
    "URL: [orfeus-eu.org/fdsnws/availability/1/extent?net=NA&start=2024-01-01](https://orfeus-eu.org/fdsnws/availability/1/extent?net=NA&start=2024-01-01)\n",
    "\n",
    "```\n",
    "#Network Station Location Channel Quality SampleRate Earliest                    Latest                      Updated              TimeSpans Restriction\n",
    "NA       SABA             BHE     D       40.0       2024-01-01T00:00:03.994000Z 2024-06-16T00:00:00.000000Z 2024-06-16T07:36:02Z 19        OPEN       \n",
    "NA       SABA             BHN     D       40.0       2024-01-01T00:00:04.119000Z 2024-06-16T00:00:00.000000Z 2024-06-16T07:36:38Z 19        OPEN       \n",
    "(...)\n",
    "NA       SABN             BHE     D       40.0       2024-01-01T23:29:23.074000Z 2024-04-09T00:00:54.575000Z 2024-04-10T07:35:27Z 5         OPEN       \n",
    "NA       SABN             BHN     D       40.0       2024-01-01T23:29:04.449000Z 2024-05-19T00:01:02.500000Z 2024-05-20T07:32:01Z 5         OPEN       \n",
    "(...)\n",
    "NA       SABQ             BHE     D       40.0       2024-01-01T00:00:02.199000Z 2024-06-16T00:00:00.000000Z 2024-06-16T07:31:00Z 9         OPEN       \n",
    "NA       SABQ             BHN     D       40.0       2024-01-01T00:00:05.674000Z 2024-06-16T00:00:00.000000Z 2024-06-16T07:31:55Z 9         OPEN       \n",
    "(...)\n",
    "```\n",
    "\n",
    "Output format defaults to `text`, but data can be also requested as `geocsv` and `json`:\n",
    "\n",
    "URL: [orfeus-eu.org/fdsnws/availability/1/query?net=NA&sta=SABA&channel=BHZ&start=2024-01-01&end=2024-01-02&format=json](https://orfeus-eu.org/fdsnws/availability/1/query?net=NA&sta=SABA&channel=BHZ&start=2024-01-01&end=2024-01-02&format=json)\n",
    "\n",
    "```json\n",
    "{\n",
    "  \"created\": \"2024-06-17T06:49:47Z\",\n",
    "  \"version\": 1,\n",
    "  \"datasources\": [\n",
    "    {\n",
    "      \"network\": \"NA\",\n",
    "      \"station\": \"SABA\",\n",
    "      \"location\": \"\",\n",
    "      \"channel\": \"BHZ\",\n",
    "      \"quality\": \"D\",\n",
    "      \"samplerate\": 40,\n",
    "      \"timespans\": [\n",
    "        [\n",
    "          \"2024-01-01T00:00:01.944000Z\",\n",
    "          \"2024-01-02T00:00:00.000000Z\"\n",
    "        ],\n",
    "        [\n",
    "          \"2024-01-02T00:00:04.669000Z\",\n",
    "          \"2024-01-02T00:00:00.000000Z\"\n",
    "        ]\n",
    "      ]\n",
    "    }\n",
    "  ]\n",
    "}\n",
    "```"
   ]
  },
  {
   "cell_type": "markdown",
   "metadata": {},
   "source": [
    "## Example workflow using FDSNWS-Availability\n",
    "\n",
    "1. Retrieve seismic event information from FDSNWS-Event catalogue offered by [GFZ](https://www.gfz-potsdam.de/) EIDA Node:\n",
    "    * Date:\n",
    "        * 📅 start date = 2024-01-01\n",
    "        * 📅 end date = 2024-06-01\n",
    "    * Event characteristics:\n",
    "        * 🎚️ minimum magnitude = 2.1\n",
    "    * Coordinates:\n",
    "        * 🌐 minimum latitude = 52°N\n",
    "        * 🌐 maximum latitude = 55°N\n",
    "        * 🌐 minimum longitude = 4°E\n",
    "        * 🌐 maximum longitude = 8°E\n",
    "1. Using [FDSNWS-Station](https://www.orfeus-eu.org/data/eida/webservices/station/) web service, list all stations available in the region defined using epicentral distance.\n",
    "1. Using [FDSNWS-Availability](https://www.orfeus-eu.org/data/eida/webservices/availability/) service exclude stations with missing data.\n",
    "1. Using [FDSNWS-Dataselect](https://www.orfeus-eu.org/data/eida/webservices/dataselect/) web service, download miniSEED files containing the waveforms from a time window defined using theoretial seismic wave arrival times."
   ]
  },
  {
   "cell_type": "markdown",
   "metadata": {},
   "source": [
    "### Imports"
   ]
  },
  {
   "cell_type": "code",
   "execution_count": null,
   "metadata": {},
   "outputs": [],
   "source": [
    "import io\n",
    "from datetime import timedelta\n",
    "\n",
    "import pandas as pd\n",
    "import requests\n",
    "from obspy import UTCDateTime\n",
    "from obspy.clients.fdsn.client import Client"
   ]
  },
  {
   "cell_type": "markdown",
   "metadata": {},
   "source": [
    "### Config and global instances"
   ]
  },
  {
   "cell_type": "code",
   "execution_count": null,
   "metadata": {},
   "outputs": [],
   "source": [
    "# Define start and end dates for the event search\n",
    "START = \"2024-01-01\"\n",
    "END = \"2024-06-01\"\n",
    "\n",
    "# Define event minimum magnitude and bounding box for event search\n",
    "MAG_MIN = 2.1\n",
    "LAT_MIN = 52\n",
    "LAT_MAX = 55\n",
    "LON_MIN = 4\n",
    "LON_MAX = 8\n",
    "\n",
    "# Max radius of stations from the epicenter (degrees)\n",
    "RADIUS_MAX = 0.2\n",
    "\n",
    "# FDSNWS-Availability URL\n",
    "FDSNWS_AVAILABILITY_URL = \"https://orfeus-eu.org/fdsnws/availability/1/query\"\n",
    "# Encoding for the HTTP requests\n",
    "ENCODING = \"utf-8\"\n",
    "\n",
    "# Use KNMI national event catalog\n",
    "CLIENT_KNMI = Client(\"KNMI\")\n",
    "# Use ORFEUS Data Center for station metadata and waveform data\n",
    "CLIENT_ODC = Client(\"ODC\")"
   ]
  },
  {
   "cell_type": "markdown",
   "metadata": {},
   "source": [
    "### Event catalogue"
   ]
  },
  {
   "cell_type": "code",
   "execution_count": null,
   "metadata": {},
   "outputs": [],
   "source": [
    "catalog = CLIENT_KNMI.get_events(\n",
    "    starttime=START,\n",
    "    endtime=END,\n",
    "    minmagnitude=MAG_MIN,\n",
    "    minlatitude=LAT_MIN,\n",
    "    maxlatitude=LAT_MAX,\n",
    "    minlongitude=LON_MIN,\n",
    "    maxlongitude=LON_MAX,\n",
    ")\n",
    "\n",
    "# Get the first event from the catalog\n",
    "event = catalog[0]\n",
    "print(event)"
   ]
  },
  {
   "cell_type": "markdown",
   "metadata": {},
   "source": [
    "Plot the event:"
   ]
  },
  {
   "cell_type": "code",
   "execution_count": null,
   "metadata": {},
   "outputs": [],
   "source": [
    "catalog_plot_ortho = catalog.plot(projection=\"ortho\")\n",
    "catalog_plot_local = catalog.plot(projection=\"local\")"
   ]
  },
  {
   "cell_type": "markdown",
   "metadata": {},
   "source": [
    "### Station inventory"
   ]
  },
  {
   "cell_type": "code",
   "execution_count": null,
   "metadata": {},
   "outputs": [],
   "source": [
    "inventory = CLIENT_ODC.get_stations(\n",
    "    startbefore=event.origins[0].time,\n",
    "    endafter=event.origins[0].time,\n",
    "    latitude=event.origins[0].latitude,\n",
    "    longitude=event.origins[0].longitude,\n",
    "    maxradius=RADIUS_MAX,\n",
    ")\n",
    "\n",
    "print(inventory)"
   ]
  },
  {
   "cell_type": "markdown",
   "metadata": {},
   "source": [
    "Plot the inventory:"
   ]
  },
  {
   "cell_type": "code",
   "execution_count": null,
   "metadata": {},
   "outputs": [],
   "source": [
    "inventory_plot = inventory.plot(projection=\"local\")"
   ]
  },
  {
   "cell_type": "markdown",
   "metadata": {},
   "source": [
    "### Availability information\n",
    "\n",
    "FDSNWS-Availability web service has been deployed across EIDA in late 2023. Service specifications can be found on [fdsn.org/webservices/fdsnws-availability-1.0.pdf](https://fdsn.org/webservices/fdsnws-availability-1.0.pdf).\n",
    "\n",
    "Unfortunately, FDSNWS-Availability is not yet impmenented in ObsPy - we are going to use `requests` library to request the information.\n",
    "\n",
    "We are goin to send a POST request to the `FDSNWS_AVAILABILITY_URL` with following body listing stations discovered in previous step:\n",
    "```\n",
    "NET STA LOC CHA START END\n",
    "```\n",
    "\n",
    "As a response, we are expecting list of continuous segments:\n",
    "```\n",
    "#Network Station Location Channel Quality SampleRate Earliest Latest\n",
    "NET      STA     LOC      CHA     M       20.0       START    END\n",
    "```"
   ]
  },
  {
   "cell_type": "code",
   "execution_count": null,
   "metadata": {},
   "outputs": [],
   "source": [
    "POST_DATA = \"format=geocsv\\n\"\n",
    "\n",
    "# Build availability POST data\n",
    "for network in inventory.networks:\n",
    "    for station in network.stations:\n",
    "\n",
    "        # Define window relative to the event origin time. We could calculate and\n",
    "        # use P-arrival time to define a more accurate window, but considering we\n",
    "        # are working with local events and small distances we can use a fixed window.\n",
    "        window_start = event.origins[0].time - timedelta(seconds=30)\n",
    "        window_end = event.origins[0].time + timedelta(seconds=60)\n",
    "\n",
    "        # We are only interested in broadband high gain data\n",
    "        POST_DATA += f\"{network.code} {station.code} * HG? {window_start.isoformat()} {window_end.isoformat()}\\n\"\n",
    "\n",
    "# Send availability request\n",
    "availability_response = requests.post(\n",
    "    FDSNWS_AVAILABILITY_URL, data=POST_DATA.encode(ENCODING)\n",
    ")\n",
    "\n",
    "# Filter out rows starting with a hash\n",
    "availability = \"\\n\".join(\n",
    "    [\n",
    "        line\n",
    "        for line in availability_response.text.split(\"\\n\")\n",
    "        if not line.startswith(\"#\")\n",
    "    ]\n",
    ")"
   ]
  },
  {
   "cell_type": "markdown",
   "metadata": {},
   "source": [
    "Content of our request:"
   ]
  },
  {
   "cell_type": "code",
   "execution_count": null,
   "metadata": {},
   "outputs": [],
   "source": [
    "# First 10 lines of the availability request\n",
    "print(\"\\n\".join(POST_DATA.split(\"\\n\")[:10]))"
   ]
  },
  {
   "cell_type": "markdown",
   "metadata": {},
   "source": [
    "Content of the response:"
   ]
  },
  {
   "cell_type": "code",
   "execution_count": null,
   "metadata": {},
   "outputs": [],
   "source": [
    "# First 10 lines of the availability response\n",
    "print(\"\\n\".join(availability.split(\"\\n\")[:10]))"
   ]
  },
  {
   "cell_type": "markdown",
   "metadata": {},
   "source": [
    "### Process FDSNWS-Availability response\n",
    "\n",
    "- Convert text to CSV\n",
    "- Load into Pandas DataFrame\n",
    "- Group on channel code\n",
    "- Ensure there are 3 components for each station"
   ]
  },
  {
   "cell_type": "code",
   "execution_count": null,
   "metadata": {},
   "outputs": [],
   "source": [
    "# Convert response to CSV:\n",
    "csv_data = availability.replace(\"|\", \",\")\n",
    "\n",
    "# Load it into a pandas DataFrame\n",
    "df = pd.read_csv(io.StringIO(csv_data), dtype=str)\n",
    "\n",
    "# Fill NaN values with empty strings (required for grouping)\n",
    "df = df.fillna('')\n",
    "\n",
    "# Round the 'Start' and 'End' columns to the nearest second by removing the milliseconds\n",
    "df[\"Earliest\"] = df[\"Earliest\"].str[:19]\n",
    "df[\"Latest\"] = df[\"Latest\"].str[:19]\n",
    "\n",
    "# Add a column with the first two characters of the 'Channel' column for easier grouping\n",
    "df[\"Channel_First_Two\"] = df[\"Channel\"].str[:2]\n",
    "\n",
    "# And aggregate the data tdfo get the number of available channels per station\n",
    "df = (\n",
    "    df.groupby(\n",
    "        [\"Network\", \"Station\", \"Location\", \"Channel_First_Two\", \"Earliest\", \"Latest\"]\n",
    "    )\n",
    "    .size()\n",
    "    .reset_index(name=\"Count\")\n",
    ")\n",
    "\n",
    "# Remove rows where 'Count' is less than 3\n",
    "df = df[df[\"Count\"] >= 3]\n",
    "\n",
    "# Display the first 10 rows\n",
    "df.head(10)"
   ]
  },
  {
   "cell_type": "markdown",
   "metadata": {},
   "source": [
    "### Downloading and plotting the data"
   ]
  },
  {
   "cell_type": "code",
   "execution_count": null,
   "metadata": {},
   "outputs": [],
   "source": [
    "for idx, e in enumerate(df.itertuples()):\n",
    "    if idx >= 10:\n",
    "        break\n",
    "\n",
    "    try:\n",
    "        st = CLIENT_KNMI.get_waveforms(\n",
    "            network=e.Network,\n",
    "            station=e.Station,\n",
    "            location=e.Location,\n",
    "            channel=e.Channel_First_Two + \"?\",\n",
    "            starttime = UTCDateTime(e.Earliest),\n",
    "            endtime = UTCDateTime(e.Latest)\n",
    "        )\n",
    "    except Exception as _:\n",
    "        print(\"Something went terribly wrong.\")\n",
    "        continue\n",
    "\n",
    "    st.plot()"
   ]
  },
  {
   "cell_type": "markdown",
   "metadata": {},
   "source": [
    "### Final remarks\n",
    "\n",
    "- FDSNWS-Availability repository: [github.com/EIDA/ws-availability](https://github.com/EIDA/ws-availability)\n",
    "- Currently working on performance improvements"
   ]
  },
  {
   "cell_type": "markdown",
   "metadata": {},
   "source": [
    "## FDSNWS-Availability client demo\n",
    "\n",
    "Repository can be found under [github.com/EIDA/a10y](https://github.com/EIDA/a10y)."
   ]
  }
 ],
 "metadata": {
  "kernelspec": {
   "display_name": "Python 3 (ipykernel)",
   "language": "python",
   "name": "python3"
  },
  "language_info": {
   "codemirror_mode": {
    "name": "ipython",
    "version": 3
   },
   "file_extension": ".py",
   "mimetype": "text/x-python",
   "name": "python",
   "nbconvert_exporter": "python",
   "pygments_lexer": "ipython3",
   "version": "3.9.17"
  }
 },
 "nbformat": 4,
 "nbformat_minor": 4
}
